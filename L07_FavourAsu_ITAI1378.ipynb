{
 "cells": [
  {
   "cell_type": "markdown",
   "id": "405221e5",
   "metadata": {
    "id": "405221e5"
   },
   "source": [
    "# \"Code-Driven Object Classification Showdown\"\n",
    "\n",
    "Objective:\n",
    "To use some basic coding skills and understanding of object classification and detection model in a real-world scenario.\n",
    "\n",
    "\n"
   ]
  },
  {
   "cell_type": "markdown",
   "id": "a113bdf3",
   "metadata": {
    "id": "a113bdf3"
   },
   "source": [
    "# Install libraries\n",
    "\n",
    "Before you can use a library in your code, you need to install it on your system.\n",
    "Installation is the process of downloading and configuring the library files on your computer.\n",
    "This is typically done once per environment (though it may need to be repeated if you need to update to a newer version of the library).\n"
   ]
  },
  {
   "cell_type": "markdown",
   "id": "0a87067c",
   "metadata": {
    "id": "0a87067c"
   },
   "source": [
    "# You may not need to install a library in the following scenatios:\n",
    "\n",
    "1.Standard Library Modules:\n",
    "Python comes with a set of standard libraries that are included with the installation of Python. For these libraries, you don't need to perform any additional installation. Examples include math, datetime, and json.\n",
    "\n",
    "2.Pre-installed Libraries:\n",
    "If you are working in an environment where the library has already been installed, either by yourself or someone else, you don't need to install it again. This is common in shared environments, company setups, or pre-configured environments like Anaconda.\n",
    "\n",
    "3.Built-in Modules:\n",
    "Some frameworks or larger libraries come with other libraries bundled in. In these cases, you don't need to install the bundled libraries separately.\n",
    "\n",
    "4.Using Online IDEs:\n",
    "When you are using online Integrated Development Environments (IDEs) like Google Colab or Jupyter Notebooks hosted on a cloud service, many common libraries are pre-installed, and you don't need to install them unless you need a library that is not included.\n",
    "\n",
    "5.Custom Environments:\n",
    "In custom environments like Docker containers or virtual environments that have been set up with a specific set of libraries, you may not need to install anything if the libraries you need are already included.\n",
    "\n",
    "6.Cloud Services with Pre-configured Environments:\n",
    "Some cloud services offer pre-configured environments with a wide array of libraries pre-installed. In such cases, you might not need to install anything.\n",
    "\n",
    "7.Notebooks with Binder:\n",
    "If you are using a Jupyter Notebook with Binder, the libraries might be specified in a configuration file and installed automatically when the Binder environment is created"
   ]
  },
  {
   "cell_type": "code",
   "execution_count": 1,
   "id": "66d26c79",
   "metadata": {
    "id": "66d26c79",
    "tags": []
   },
   "outputs": [
    {
     "name": "stdout",
     "output_type": "stream",
     "text": [
      "Requirement already satisfied: tensorflow in /home/studio-lab-user/.conda/envs/default/lib/python3.9/site-packages (2.16.1)\n",
      "Requirement already satisfied: tensorflow-io-gcs-filesystem>=0.23.1 in /home/studio-lab-user/.conda/envs/default/lib/python3.9/site-packages (from tensorflow) (0.36.0)\n",
      "Requirement already satisfied: typing-extensions>=3.6.6 in /home/studio-lab-user/.conda/envs/default/lib/python3.9/site-packages (from tensorflow) (4.10.0)\n",
      "Requirement already satisfied: tensorboard<2.17,>=2.16 in /home/studio-lab-user/.conda/envs/default/lib/python3.9/site-packages (from tensorflow) (2.16.2)\n",
      "Requirement already satisfied: six>=1.12.0 in /home/studio-lab-user/.conda/envs/default/lib/python3.9/site-packages (from tensorflow) (1.16.0)\n",
      "Requirement already satisfied: ml-dtypes~=0.3.1 in /home/studio-lab-user/.conda/envs/default/lib/python3.9/site-packages (from tensorflow) (0.3.2)\n",
      "Requirement already satisfied: numpy<2.0.0,>=1.23.5 in /home/studio-lab-user/.conda/envs/default/lib/python3.9/site-packages (from tensorflow) (1.26.4)\n",
      "Requirement already satisfied: absl-py>=1.0.0 in /home/studio-lab-user/.conda/envs/default/lib/python3.9/site-packages (from tensorflow) (2.1.0)\n",
      "Requirement already satisfied: packaging in /home/studio-lab-user/.conda/envs/default/lib/python3.9/site-packages (from tensorflow) (23.1)\n",
      "Requirement already satisfied: flatbuffers>=23.5.26 in /home/studio-lab-user/.conda/envs/default/lib/python3.9/site-packages (from tensorflow) (24.3.7)\n",
      "Requirement already satisfied: opt-einsum>=2.3.2 in /home/studio-lab-user/.conda/envs/default/lib/python3.9/site-packages (from tensorflow) (3.3.0)\n",
      "Requirement already satisfied: termcolor>=1.1.0 in /home/studio-lab-user/.conda/envs/default/lib/python3.9/site-packages (from tensorflow) (2.4.0)\n",
      "Requirement already satisfied: gast!=0.5.0,!=0.5.1,!=0.5.2,>=0.2.1 in /home/studio-lab-user/.conda/envs/default/lib/python3.9/site-packages (from tensorflow) (0.5.4)\n",
      "Requirement already satisfied: wrapt>=1.11.0 in /home/studio-lab-user/.conda/envs/default/lib/python3.9/site-packages (from tensorflow) (1.16.0)\n",
      "Requirement already satisfied: protobuf!=4.21.0,!=4.21.1,!=4.21.2,!=4.21.3,!=4.21.4,!=4.21.5,<5.0.0dev,>=3.20.3 in /home/studio-lab-user/.conda/envs/default/lib/python3.9/site-packages (from tensorflow) (4.25.3)\n",
      "Requirement already satisfied: google-pasta>=0.1.1 in /home/studio-lab-user/.conda/envs/default/lib/python3.9/site-packages (from tensorflow) (0.2.0)\n",
      "Requirement already satisfied: keras>=3.0.0 in /home/studio-lab-user/.conda/envs/default/lib/python3.9/site-packages (from tensorflow) (3.1.1)\n",
      "Requirement already satisfied: astunparse>=1.6.0 in /home/studio-lab-user/.conda/envs/default/lib/python3.9/site-packages (from tensorflow) (1.6.3)\n",
      "Requirement already satisfied: setuptools in /home/studio-lab-user/.conda/envs/default/lib/python3.9/site-packages (from tensorflow) (68.0.0)\n",
      "Requirement already satisfied: grpcio<2.0,>=1.24.3 in /home/studio-lab-user/.conda/envs/default/lib/python3.9/site-packages (from tensorflow) (1.62.1)\n",
      "Requirement already satisfied: libclang>=13.0.0 in /home/studio-lab-user/.conda/envs/default/lib/python3.9/site-packages (from tensorflow) (16.0.6)\n",
      "Requirement already satisfied: requests<3,>=2.21.0 in /home/studio-lab-user/.conda/envs/default/lib/python3.9/site-packages (from tensorflow) (2.31.0)\n",
      "Requirement already satisfied: h5py>=3.10.0 in /home/studio-lab-user/.conda/envs/default/lib/python3.9/site-packages (from tensorflow) (3.10.0)\n",
      "Requirement already satisfied: wheel<1.0,>=0.23.0 in /home/studio-lab-user/.conda/envs/default/lib/python3.9/site-packages (from astunparse>=1.6.0->tensorflow) (0.41.1)\n",
      "Requirement already satisfied: rich in /home/studio-lab-user/.conda/envs/default/lib/python3.9/site-packages (from keras>=3.0.0->tensorflow) (13.7.1)\n",
      "Requirement already satisfied: optree in /home/studio-lab-user/.conda/envs/default/lib/python3.9/site-packages (from keras>=3.0.0->tensorflow) (0.11.0)\n",
      "Requirement already satisfied: namex in /home/studio-lab-user/.conda/envs/default/lib/python3.9/site-packages (from keras>=3.0.0->tensorflow) (0.0.7)\n",
      "Requirement already satisfied: certifi>=2017.4.17 in /home/studio-lab-user/.conda/envs/default/lib/python3.9/site-packages (from requests<3,>=2.21.0->tensorflow) (2023.7.22)\n",
      "Requirement already satisfied: urllib3<3,>=1.21.1 in /home/studio-lab-user/.conda/envs/default/lib/python3.9/site-packages (from requests<3,>=2.21.0->tensorflow) (2.0.4)\n",
      "Requirement already satisfied: idna<4,>=2.5 in /home/studio-lab-user/.conda/envs/default/lib/python3.9/site-packages (from requests<3,>=2.21.0->tensorflow) (3.4)\n",
      "Requirement already satisfied: charset-normalizer<4,>=2 in /home/studio-lab-user/.conda/envs/default/lib/python3.9/site-packages (from requests<3,>=2.21.0->tensorflow) (3.2.0)\n",
      "Requirement already satisfied: tensorboard-data-server<0.8.0,>=0.7.0 in /home/studio-lab-user/.conda/envs/default/lib/python3.9/site-packages (from tensorboard<2.17,>=2.16->tensorflow) (0.7.2)\n",
      "Requirement already satisfied: markdown>=2.6.8 in /home/studio-lab-user/.conda/envs/default/lib/python3.9/site-packages (from tensorboard<2.17,>=2.16->tensorflow) (3.6)\n",
      "Requirement already satisfied: werkzeug>=1.0.1 in /home/studio-lab-user/.conda/envs/default/lib/python3.9/site-packages (from tensorboard<2.17,>=2.16->tensorflow) (3.0.1)\n",
      "Requirement already satisfied: importlib-metadata>=4.4 in /home/studio-lab-user/.conda/envs/default/lib/python3.9/site-packages (from markdown>=2.6.8->tensorboard<2.17,>=2.16->tensorflow) (6.8.0)\n",
      "Requirement already satisfied: zipp>=0.5 in /home/studio-lab-user/.conda/envs/default/lib/python3.9/site-packages (from importlib-metadata>=4.4->markdown>=2.6.8->tensorboard<2.17,>=2.16->tensorflow) (3.16.2)\n",
      "Requirement already satisfied: MarkupSafe>=2.1.1 in /home/studio-lab-user/.conda/envs/default/lib/python3.9/site-packages (from werkzeug>=1.0.1->tensorboard<2.17,>=2.16->tensorflow) (2.1.3)\n",
      "Requirement already satisfied: pygments<3.0.0,>=2.13.0 in /home/studio-lab-user/.conda/envs/default/lib/python3.9/site-packages (from rich->keras>=3.0.0->tensorflow) (2.16.1)\n",
      "Requirement already satisfied: markdown-it-py>=2.2.0 in /home/studio-lab-user/.conda/envs/default/lib/python3.9/site-packages (from rich->keras>=3.0.0->tensorflow) (3.0.0)\n",
      "Requirement already satisfied: mdurl~=0.1 in /home/studio-lab-user/.conda/envs/default/lib/python3.9/site-packages (from markdown-it-py>=2.2.0->rich->keras>=3.0.0->tensorflow) (0.1.2)\n"
     ]
    },
    {
     "name": "stderr",
     "output_type": "stream",
     "text": [
      "2024-04-15 23:54:31.462077: I tensorflow/core/platform/cpu_feature_guard.cc:210] This TensorFlow binary is optimized to use available CPU instructions in performance-critical operations.\n",
      "To enable the following instructions: AVX2 AVX512F FMA, in other operations, rebuild TensorFlow with the appropriate compiler flags.\n",
      "2024-04-15 23:54:33.989421: W tensorflow/compiler/tf2tensorrt/utils/py_utils.cc:38] TF-TRT Warning: Could not find TensorRT\n"
     ]
    }
   ],
   "source": [
    "!pip install tensorflow\n",
    "\n",
    "# Import\n",
    "import tensorflow as tf\n",
    "import numpy as np\n",
    "import matplotlib.pyplot as plt\n",
    "from sklearn import datasets\n",
    "from sklearn.model_selection import train_test_split, cross_val_score, GridSearchCV\n",
    "from sklearn.neighbors import KNeighborsClassifier\n",
    "from sklearn.metrics import accuracy_score\n",
    "from sklearn.preprocessing import StandardScaler\n",
    "\n",
    "# Here, we import all necessary libraries and modules.\n",
    "# TensorFlow is used for loading the CIFAR-10 dataset, NumPy for numerical operations,\n",
    "# Matplotlib for plotting, and scikit-learn for data splitting, model training, evaluation, and fine-tuning."
   ]
  },
  {
   "cell_type": "code",
   "execution_count": 2,
   "id": "74c81e07",
   "metadata": {
    "id": "74c81e07",
    "tags": []
   },
   "outputs": [],
   "source": [
    "#load dataset\n",
    "# Load CIFAR-10 dataset\n",
    "# use TensorFlow's Keras API to load the CIFAR-10 dataset.\n",
    "# Split  this dataset into training and testing sets, each with its respective images and labels.\n",
    " #-- your code here--\n",
    "\n",
    "\n",
    "\n",
    "\n",
    "\n",
    "(x_train, y_train), (x_test, y_test) = tf.keras.datasets.cifar10.load_data()\n"
   ]
  },
  {
   "cell_type": "code",
   "execution_count": 3,
   "id": "5e66aea5",
   "metadata": {
    "id": "5e66aea5",
    "tags": []
   },
   "outputs": [],
   "source": [
    "# Flatten the labels\n",
    "y_train = y_train.flatten()\n",
    "y_test = y_test.flatten()\n",
    "\n",
    "# Why do we flatten the  labels"
   ]
  },
  {
   "cell_type": "code",
   "execution_count": 4,
   "id": "2f3190c9",
   "metadata": {
    "id": "2f3190c9",
    "tags": []
   },
   "outputs": [],
   "source": [
    "# Preprocess the data\n",
    "scaler = StandardScaler()\n",
    "x_train = scaler.fit_transform(x_train.reshape(x_train.shape[0], -1))\n",
    "x_test = scaler.transform(x_test.reshape(x_test.shape[0], -1))\n",
    "\n",
    "#We scale the data to have a mean of 0 and a variance of 1, which often leads to better performance with k-NN.\n",
    "#We also reshape the images from 3D arrays to 2D arrays as scikit-learn expects 2D input.\n",
    "\n",
    "# Discuss the importance and how to calculate  Mean and Variance\n",
    "\n",
    "\n"
   ]
  },
  {
   "cell_type": "code",
   "execution_count": 5,
   "id": "16be3bc6",
   "metadata": {
    "id": "16be3bc6",
    "tags": []
   },
   "outputs": [],
   "source": [
    "# Function to display images from the dataset\n",
    "def display_images(images, labels):\n",
    "    fig, axes = plt.subplots(1, 5, figsize=(10, 5),\n",
    "                             subplot_kw={'xticks':[], 'yticks':[]},\n",
    "                             gridspec_kw=dict(hspace=0.1, wspace=0.1))\n",
    "    for i, ax in enumerate(axes.flat):\n",
    "        ax.imshow(images[i].reshape(32, 32, 3).astype(np.uint8))\n",
    "        ax.set_title(labels[i])\n",
    "    plt.show()\n",
    "\n",
    "#This function is used to display images along with their labels. It's helpful for visual verification of the data.\n",
    "#This function takes in a set of images and labels, and displays the images in a single row using Matplotlib.\n",
    "#Each image is reshaped back to its original dimensions (32x32x3) and\n",
    "#the pixel values are cast to unsigned 8-bit integers (which is the expected format for displaying images using Matplotlib).\n",
    "#This code sets up a good foundation for the subsequent steps in the assignment,\n",
    "#such as filtering out specific categories of images, training a k-NN classifier, and evaluating its performance."
   ]
  },
  {
   "cell_type": "markdown",
   "id": "875ce8b9",
   "metadata": {
    "id": "875ce8b9"
   },
   "source": [
    "**The CIFAR-10 dataset is composed of 60,000 32x32 color images, categorized into 10 different classes.**\n",
    "Each class has 6,000 images. The categories are as follows:\n",
    "\n",
    "Airplane,\n",
    "Automobile,\n",
    "Bird,\n",
    "Cat,  \n",
    "Deer,\n",
    "Dog,\n",
    "Frog,\n",
    "Horse,\n",
    "Ship,\n",
    "Truck."
   ]
  },
  {
   "cell_type": "code",
   "execution_count": null,
   "id": "078baae5",
   "metadata": {
    "id": "078baae5",
    "scrolled": true,
    "tags": []
   },
   "outputs": [],
   "source": [
    "# 1. Filter out images from your assigned category (e.g., 'dog')\n",
    "#    Hint: Use np.where to find indices of 'dog' labels in y_train\n",
    "\n",
    "# --- Your code here ---\n",
    "category_indices = np.where(y_train == 0)[6]  # '0' corresponds to 'airplane' in CIFAR-10\n",
    "category_images = x_train[category_indices]\n",
    "category_labels = y_train[category_indices]\n",
    "\n",
    "# --- Your code here ---\n",
    "# Here, we filter out the images of airplanes from the training data for visualization purposes.\n"
   ]
  },
  {
   "cell_type": "code",
   "execution_count": 7,
   "id": "0e317e2c",
   "metadata": {
    "colab": {
     "base_uri": "https://localhost:8080/",
     "height": 202
    },
    "id": "0e317e2c",
    "outputId": "6d9d7bd8-890e-45bd-fa80-094510c18cc5",
    "tags": []
   },
   "outputs": [
    {
     "data": {
      "image/png": "[encoded data removed]",
      "text/plain": [
       "<Figure size 1000x500 with 5 Axes>"
      ]
     },
     "metadata": {},
     "output_type": "display_data"
    }
   ],
   "source": [
    "#2. Display some images from your assigned category using the display_images function\n",
    "\n",
    "#-- Your Code Here --\n",
    "\n",
    "# Task 2: Display some images from the 'airplane' category\n",
    "display_images(category_images[:5], category_labels[:5])\n",
    "\n",
    "# --- Your code here ---\n",
    "\n",
    "#We call the display function to visualize some  images of the category you picked."
   ]
  },
  {
   "cell_type": "code",
   "execution_count": 8,
   "id": "29b162a8",
   "metadata": {
    "colab": {
     "base_uri": "https://localhost:8080/",
     "height": 1000
    },
    "id": "29b162a8",
    "outputId": "8fb808f1-0bc3-4da9-b3b6-9ebb120693f9",
    "tags": []
   },
   "outputs": [],
   "source": [
    "# 3. Train a k-NN classifier and evaluate it\n",
    "#    Hint: You can use KNeighborsClassifier from scikit-learn\n",
    "\n",
    "\n",
    "k_values = list(range(1, 11))\n",
    "cv_scores = []\n",
    "\n",
    "for k in k_values:\n",
    "    knn = KNeighborsClassifier(n_neighbors=k)\n",
    "    scores = cross_val_score(knn, x_train, y_train, cv=5, scoring='accuracy')\n",
    "    cv_scores.append(np.mean(scores))\n",
    "\n",
    "\n",
    "# -- Your Code Here--\n",
    "#We train k-NN classifiers for different values of k (number of neighbors)\n",
    "#and evaluate them using 5-fold cross-validation to estimate the misclassification error.\n",
    "\n",
    "\n"
   ]
  },
  {
   "cell_type": "code",
   "execution_count": 9,
   "id": "a2701592",
   "metadata": {
    "id": "a2701592",
    "tags": []
   },
   "outputs": [
    {
     "data": {
      "image/png": "[encoded data removed]",
      "text/plain": [
       "<Figure size 640x480 with 1 Axes>"
      ]
     },
     "metadata": {},
     "output_type": "display_data"
    }
   ],
   "source": [
    "# Plot bias-variance\n",
    "mse = [1 - x for x in cv_scores]\n",
    "plt.plot(k_values, mse)\n",
    "plt.xlabel('Number of Neighbors (k)')\n",
    "plt.ylabel('Misclassification Error')\n",
    "plt.title('Bias-Variance Plot')\n",
    "plt.show()\n",
    "\n",
    "#We plot the misclassification error against k to visualize the bias-variance trade-off."
   ]
  },
  {
   "cell_type": "markdown",
   "id": "97d9a08d",
   "metadata": {
    "id": "97d9a08d"
   },
   "source": [
    " # How Bias and Variance Come into Play'\n",
    "\n",
    "**High Bias**: If your trained model consistently makes predictions that are off the mark for different datasets (like consistently throwing darts to the left of the bullseye), it has a high bias. It's probably oversimplifying the problem.\n",
    "**ML Solution:** Use a more complex model or incorporate more features.\n",
    "\n",
    "**High Variance:** If your model makes predictions that vary a lot for slight changes in the training data (like your darts scattering all over the board based on tiny differences in your stance or grip), it has high variance. It's probably overfitting to the training data.\n",
    "**ML Solution:** Collect more data, use regularization, or choose a simpler model.\n",
    "\n",
    "**The Role of Bias and Variance in ML:**\n",
    "Model Evaluation: Understanding bias and variance helps in evaluating a model's performance. If a model has high error on the training set, it's likely due to high bias. If it performs well on the training set but poorly on the validation set, it's likely due to high variance.\n",
    "\n",
    "**Model Improvement:** By diagnosing whether a model suffers from high bias, high variance, or both, you can take steps to improve it.\n",
    "\n",
    "**The Trade-off:** In ML, there's often a trade-off. Reducing bias might increase variance and vice versa. The goal is to find the sweet spot where the model has a balanced bias-variance, leading to the most accurate predictions on unseen data.\n",
    "\n",
    "Bias and variance are fundamental concepts in ML, influencing model performance, evaluation, and improvement strategies.\n",
    "\n",
    "\n",
    "\n",
    "\n",
    "\n"
   ]
  },
  {
   "cell_type": "code",
   "execution_count": 10,
   "id": "c9414f98",
   "metadata": {
    "id": "c9414f98",
    "tags": []
   },
   "outputs": [
    {
     "data": {
      "text/html": [
       "<style>#sk-container-id-1 {\n",
       "  /* Definition of color scheme common for light and dark mode */\n",
       "  --sklearn-color-text: black;\n",
       "  --sklearn-color-line: gray;\n",
       "  /* Definition of color scheme for unfitted estimators */\n",
       "  --sklearn-color-unfitted-level-0: #fff5e6;\n",
       "  --sklearn-color-unfitted-level-1: #f6e4d2;\n",
       "  --sklearn-color-unfitted-level-2: #ffe0b3;\n",
       "  --sklearn-color-unfitted-level-3: chocolate;\n",
       "  /* Definition of color scheme for fitted estimators */\n",
       "  --sklearn-color-fitted-level-0: #f0f8ff;\n",
       "  --sklearn-color-fitted-level-1: #d4ebff;\n",
       "  --sklearn-color-fitted-level-2: #b3dbfd;\n",
       "  --sklearn-color-fitted-level-3: cornflowerblue;\n",
       "\n",
       "  /* Specific color for light theme */\n",
       "  --sklearn-color-text-on-default-background: var(--sg-text-color, var(--theme-code-foreground, var(--jp-content-font-color1, black)));\n",
       "  --sklearn-color-background: var(--sg-background-color, var(--theme-background, var(--jp-layout-color0, white)));\n",
       "  --sklearn-color-border-box: var(--sg-text-color, var(--theme-code-foreground, var(--jp-content-font-color1, black)));\n",
       "  --sklearn-color-icon: #696969;\n",
       "\n",
       "  @media (prefers-color-scheme: dark) {\n",
       "    /* Redefinition of color scheme for dark theme */\n",
       "    --sklearn-color-text-on-default-background: var(--sg-text-color, var(--theme-code-foreground, var(--jp-content-font-color1, white)));\n",
       "    --sklearn-color-background: var(--sg-background-color, var(--theme-background, var(--jp-layout-color0, #111)));\n",
       "    --sklearn-color-border-box: var(--sg-text-color, var(--theme-code-foreground, var(--jp-content-font-color1, white)));\n",
       "    --sklearn-color-icon: #878787;\n",
       "  }\n",
       "}\n",
       "\n",
       "#sk-container-id-1 {\n",
       "  color: var(--sklearn-color-text);\n",
       "}\n",
       "\n",
       "#sk-container-id-1 pre {\n",
       "  padding: 0;\n",
       "}\n",
       "\n",
       "#sk-container-id-1 input.sk-hidden--visually {\n",
       "  border: 0;\n",
       "  clip: rect(1px 1px 1px 1px);\n",
       "  clip: rect(1px, 1px, 1px, 1px);\n",
       "  height: 1px;\n",
       "  margin: -1px;\n",
       "  overflow: hidden;\n",
       "  padding: 0;\n",
       "  position: absolute;\n",
       "  width: 1px;\n",
       "}\n",
       "\n",
       "#sk-container-id-1 div.sk-dashed-wrapped {\n",
       "  border: 1px dashed var(--sklearn-color-line);\n",
       "  margin: 0 0.4em 0.5em 0.4em;\n",
       "  box-sizing: border-box;\n",
       "  padding-bottom: 0.4em;\n",
       "  background-color: var(--sklearn-color-background);\n",
       "}\n",
       "\n",
       "#sk-container-id-1 div.sk-container {\n",
       "  /* jupyter's `normalize.less` sets `[hidden] { display: none; }`\n",
       "     but bootstrap.min.css set `[hidden] { display: none !important; }`\n",
       "     so we also need the `!important` here to be able to override the\n",
       "     default hidden behavior on the sphinx rendered scikit-learn.org.\n",
       "     See: https://github.com/scikit-learn/scikit-learn/issues/21755 */\n",
       "  display: inline-block !important;\n",
       "  position: relative;\n",
       "}\n",
       "\n",
       "#sk-container-id-1 div.sk-text-repr-fallback {\n",
       "  display: none;\n",
       "}\n",
       "\n",
       "div.sk-parallel-item,\n",
       "div.sk-serial,\n",
       "div.sk-item {\n",
       "  /* draw centered vertical line to link estimators */\n",
       "  background-image: linear-gradient(var(--sklearn-color-text-on-default-background), var(--sklearn-color-text-on-default-background));\n",
       "  background-size: 2px 100%;\n",
       "  background-repeat: no-repeat;\n",
       "  background-position: center center;\n",
       "}\n",
       "\n",
       "/* Parallel-specific style estimator block */\n",
       "\n",
       "#sk-container-id-1 div.sk-parallel-item::after {\n",
       "  content: \"\";\n",
       "  width: 100%;\n",
       "  border-bottom: 2px solid var(--sklearn-color-text-on-default-background);\n",
       "  flex-grow: 1;\n",
       "}\n",
       "\n",
       "#sk-container-id-1 div.sk-parallel {\n",
       "  display: flex;\n",
       "  align-items: stretch;\n",
       "  justify-content: center;\n",
       "  background-color: var(--sklearn-color-background);\n",
       "  position: relative;\n",
       "}\n",
       "\n",
       "#sk-container-id-1 div.sk-parallel-item {\n",
       "  display: flex;\n",
       "  flex-direction: column;\n",
       "}\n",
       "\n",
       "#sk-container-id-1 div.sk-parallel-item:first-child::after {\n",
       "  align-self: flex-end;\n",
       "  width: 50%;\n",
       "}\n",
       "\n",
       "#sk-container-id-1 div.sk-parallel-item:last-child::after {\n",
       "  align-self: flex-start;\n",
       "  width: 50%;\n",
       "}\n",
       "\n",
       "#sk-container-id-1 div.sk-parallel-item:only-child::after {\n",
       "  width: 0;\n",
       "}\n",
       "\n",
       "/* Serial-specific style estimator block */\n",
       "\n",
       "#sk-container-id-1 div.sk-serial {\n",
       "  display: flex;\n",
       "  flex-direction: column;\n",
       "  align-items: center;\n",
       "  background-color: var(--sklearn-color-background);\n",
       "  padding-right: 1em;\n",
       "  padding-left: 1em;\n",
       "}\n",
       "\n",
       "\n",
       "/* Toggleable style: style used for estimator/Pipeline/ColumnTransformer box that is\n",
       "clickable and can be expanded/collapsed.\n",
       "- Pipeline and ColumnTransformer use this feature and define the default style\n",
       "- Estimators will overwrite some part of the style using the `sk-estimator` class\n",
       "*/\n",
       "\n",
       "/* Pipeline and ColumnTransformer style (default) */\n",
       "\n",
       "#sk-container-id-1 div.sk-toggleable {\n",
       "  /* Default theme specific background. It is overwritten whether we have a\n",
       "  specific estimator or a Pipeline/ColumnTransformer */\n",
       "  background-color: var(--sklearn-color-background);\n",
       "}\n",
       "\n",
       "/* Toggleable label */\n",
       "#sk-container-id-1 label.sk-toggleable__label {\n",
       "  cursor: pointer;\n",
       "  display: block;\n",
       "  width: 100%;\n",
       "  margin-bottom: 0;\n",
       "  padding: 0.5em;\n",
       "  box-sizing: border-box;\n",
       "  text-align: center;\n",
       "}\n",
       "\n",
       "#sk-container-id-1 label.sk-toggleable__label-arrow:before {\n",
       "  /* Arrow on the left of the label */\n",
       "  content: \"▸\";\n",
       "  float: left;\n",
       "  margin-right: 0.25em;\n",
       "  color: var(--sklearn-color-icon);\n",
       "}\n",
       "\n",
       "#sk-container-id-1 label.sk-toggleable__label-arrow:hover:before {\n",
       "  color: var(--sklearn-color-text);\n",
       "}\n",
       "\n",
       "/* Toggleable content - dropdown */\n",
       "\n",
       "#sk-container-id-1 div.sk-toggleable__content {\n",
       "  max-height: 0;\n",
       "  max-width: 0;\n",
       "  overflow: hidden;\n",
       "  text-align: left;\n",
       "  /* unfitted */\n",
       "  background-color: var(--sklearn-color-unfitted-level-0);\n",
       "}\n",
       "\n",
       "#sk-container-id-1 div.sk-toggleable__content.fitted {\n",
       "  /* fitted */\n",
       "  background-color: var(--sklearn-color-fitted-level-0);\n",
       "}\n",
       "\n",
       "#sk-container-id-1 div.sk-toggleable__content pre {\n",
       "  margin: 0.2em;\n",
       "  border-radius: 0.25em;\n",
       "  color: var(--sklearn-color-text);\n",
       "  /* unfitted */\n",
       "  background-color: var(--sklearn-color-unfitted-level-0);\n",
       "}\n",
       "\n",
       "#sk-container-id-1 div.sk-toggleable__content.fitted pre {\n",
       "  /* unfitted */\n",
       "  background-color: var(--sklearn-color-fitted-level-0);\n",
       "}\n",
       "\n",
       "#sk-container-id-1 input.sk-toggleable__control:checked~div.sk-toggleable__content {\n",
       "  /* Expand drop-down */\n",
       "  max-height: 200px;\n",
       "  max-width: 100%;\n",
       "  overflow: auto;\n",
       "}\n",
       "\n",
       "#sk-container-id-1 input.sk-toggleable__control:checked~label.sk-toggleable__label-arrow:before {\n",
       "  content: \"▾\";\n",
       "}\n",
       "\n",
       "/* Pipeline/ColumnTransformer-specific style */\n",
       "\n",
       "#sk-container-id-1 div.sk-label input.sk-toggleable__control:checked~label.sk-toggleable__label {\n",
       "  color: var(--sklearn-color-text);\n",
       "  background-color: var(--sklearn-color-unfitted-level-2);\n",
       "}\n",
       "\n",
       "#sk-container-id-1 div.sk-label.fitted input.sk-toggleable__control:checked~label.sk-toggleable__label {\n",
       "  background-color: var(--sklearn-color-fitted-level-2);\n",
       "}\n",
       "\n",
       "/* Estimator-specific style */\n",
       "\n",
       "/* Colorize estimator box */\n",
       "#sk-container-id-1 div.sk-estimator input.sk-toggleable__control:checked~label.sk-toggleable__label {\n",
       "  /* unfitted */\n",
       "  background-color: var(--sklearn-color-unfitted-level-2);\n",
       "}\n",
       "\n",
       "#sk-container-id-1 div.sk-estimator.fitted input.sk-toggleable__control:checked~label.sk-toggleable__label {\n",
       "  /* fitted */\n",
       "  background-color: var(--sklearn-color-fitted-level-2);\n",
       "}\n",
       "\n",
       "#sk-container-id-1 div.sk-label label.sk-toggleable__label,\n",
       "#sk-container-id-1 div.sk-label label {\n",
       "  /* The background is the default theme color */\n",
       "  color: var(--sklearn-color-text-on-default-background);\n",
       "}\n",
       "\n",
       "/* On hover, darken the color of the background */\n",
       "#sk-container-id-1 div.sk-label:hover label.sk-toggleable__label {\n",
       "  color: var(--sklearn-color-text);\n",
       "  background-color: var(--sklearn-color-unfitted-level-2);\n",
       "}\n",
       "\n",
       "/* Label box, darken color on hover, fitted */\n",
       "#sk-container-id-1 div.sk-label.fitted:hover label.sk-toggleable__label.fitted {\n",
       "  color: var(--sklearn-color-text);\n",
       "  background-color: var(--sklearn-color-fitted-level-2);\n",
       "}\n",
       "\n",
       "/* Estimator label */\n",
       "\n",
       "#sk-container-id-1 div.sk-label label {\n",
       "  font-family: monospace;\n",
       "  font-weight: bold;\n",
       "  display: inline-block;\n",
       "  line-height: 1.2em;\n",
       "}\n",
       "\n",
       "#sk-container-id-1 div.sk-label-container {\n",
       "  text-align: center;\n",
       "}\n",
       "\n",
       "/* Estimator-specific */\n",
       "#sk-container-id-1 div.sk-estimator {\n",
       "  font-family: monospace;\n",
       "  border: 1px dotted var(--sklearn-color-border-box);\n",
       "  border-radius: 0.25em;\n",
       "  box-sizing: border-box;\n",
       "  margin-bottom: 0.5em;\n",
       "  /* unfitted */\n",
       "  background-color: var(--sklearn-color-unfitted-level-0);\n",
       "}\n",
       "\n",
       "#sk-container-id-1 div.sk-estimator.fitted {\n",
       "  /* fitted */\n",
       "  background-color: var(--sklearn-color-fitted-level-0);\n",
       "}\n",
       "\n",
       "/* on hover */\n",
       "#sk-container-id-1 div.sk-estimator:hover {\n",
       "  /* unfitted */\n",
       "  background-color: var(--sklearn-color-unfitted-level-2);\n",
       "}\n",
       "\n",
       "#sk-container-id-1 div.sk-estimator.fitted:hover {\n",
       "  /* fitted */\n",
       "  background-color: var(--sklearn-color-fitted-level-2);\n",
       "}\n",
       "\n",
       "/* Specification for estimator info (e.g. \"i\" and \"?\") */\n",
       "\n",
       "/* Common style for \"i\" and \"?\" */\n",
       "\n",
       ".sk-estimator-doc-link,\n",
       "a:link.sk-estimator-doc-link,\n",
       "a:visited.sk-estimator-doc-link {\n",
       "  float: right;\n",
       "  font-size: smaller;\n",
       "  line-height: 1em;\n",
       "  font-family: monospace;\n",
       "  background-color: var(--sklearn-color-background);\n",
       "  border-radius: 1em;\n",
       "  height: 1em;\n",
       "  width: 1em;\n",
       "  text-decoration: none !important;\n",
       "  margin-left: 1ex;\n",
       "  /* unfitted */\n",
       "  border: var(--sklearn-color-unfitted-level-1) 1pt solid;\n",
       "  color: var(--sklearn-color-unfitted-level-1);\n",
       "}\n",
       "\n",
       ".sk-estimator-doc-link.fitted,\n",
       "a:link.sk-estimator-doc-link.fitted,\n",
       "a:visited.sk-estimator-doc-link.fitted {\n",
       "  /* fitted */\n",
       "  border: var(--sklearn-color-fitted-level-1) 1pt solid;\n",
       "  color: var(--sklearn-color-fitted-level-1);\n",
       "}\n",
       "\n",
       "/* On hover */\n",
       "div.sk-estimator:hover .sk-estimator-doc-link:hover,\n",
       ".sk-estimator-doc-link:hover,\n",
       "div.sk-label-container:hover .sk-estimator-doc-link:hover,\n",
       ".sk-estimator-doc-link:hover {\n",
       "  /* unfitted */\n",
       "  background-color: var(--sklearn-color-unfitted-level-3);\n",
       "  color: var(--sklearn-color-background);\n",
       "  text-decoration: none;\n",
       "}\n",
       "\n",
       "div.sk-estimator.fitted:hover .sk-estimator-doc-link.fitted:hover,\n",
       ".sk-estimator-doc-link.fitted:hover,\n",
       "div.sk-label-container:hover .sk-estimator-doc-link.fitted:hover,\n",
       ".sk-estimator-doc-link.fitted:hover {\n",
       "  /* fitted */\n",
       "  background-color: var(--sklearn-color-fitted-level-3);\n",
       "  color: var(--sklearn-color-background);\n",
       "  text-decoration: none;\n",
       "}\n",
       "\n",
       "/* Span, style for the box shown on hovering the info icon */\n",
       ".sk-estimator-doc-link span {\n",
       "  display: none;\n",
       "  z-index: 9999;\n",
       "  position: relative;\n",
       "  font-weight: normal;\n",
       "  right: .2ex;\n",
       "  padding: .5ex;\n",
       "  margin: .5ex;\n",
       "  width: min-content;\n",
       "  min-width: 20ex;\n",
       "  max-width: 50ex;\n",
       "  color: var(--sklearn-color-text);\n",
       "  box-shadow: 2pt 2pt 4pt #999;\n",
       "  /* unfitted */\n",
       "  background: var(--sklearn-color-unfitted-level-0);\n",
       "  border: .5pt solid var(--sklearn-color-unfitted-level-3);\n",
       "}\n",
       "\n",
       ".sk-estimator-doc-link.fitted span {\n",
       "  /* fitted */\n",
       "  background: var(--sklearn-color-fitted-level-0);\n",
       "  border: var(--sklearn-color-fitted-level-3);\n",
       "}\n",
       "\n",
       ".sk-estimator-doc-link:hover span {\n",
       "  display: block;\n",
       "}\n",
       "\n",
       "/* \"?\"-specific style due to the `<a>` HTML tag */\n",
       "\n",
       "#sk-container-id-1 a.estimator_doc_link {\n",
       "  float: right;\n",
       "  font-size: 1rem;\n",
       "  line-height: 1em;\n",
       "  font-family: monospace;\n",
       "  background-color: var(--sklearn-color-background);\n",
       "  border-radius: 1rem;\n",
       "  height: 1rem;\n",
       "  width: 1rem;\n",
       "  text-decoration: none;\n",
       "  /* unfitted */\n",
       "  color: var(--sklearn-color-unfitted-level-1);\n",
       "  border: var(--sklearn-color-unfitted-level-1) 1pt solid;\n",
       "}\n",
       "\n",
       "#sk-container-id-1 a.estimator_doc_link.fitted {\n",
       "  /* fitted */\n",
       "  border: var(--sklearn-color-fitted-level-1) 1pt solid;\n",
       "  color: var(--sklearn-color-fitted-level-1);\n",
       "}\n",
       "\n",
       "/* On hover */\n",
       "#sk-container-id-1 a.estimator_doc_link:hover {\n",
       "  /* unfitted */\n",
       "  background-color: var(--sklearn-color-unfitted-level-3);\n",
       "  color: var(--sklearn-color-background);\n",
       "  text-decoration: none;\n",
       "}\n",
       "\n",
       "#sk-container-id-1 a.estimator_doc_link.fitted:hover {\n",
       "  /* fitted */\n",
       "  background-color: var(--sklearn-color-fitted-level-3);\n",
       "}\n",
       "</style><div id=\"sk-container-id-1\" class=\"sk-top-container\"><div class=\"sk-text-repr-fallback\"><pre>GridSearchCV(cv=5, estimator=KNeighborsClassifier(),\n",
       "             param_grid={&#x27;n_neighbors&#x27;: [1, 2, 3, 4, 5, 6, 7, 8, 9, 10]},\n",
       "             scoring=&#x27;accuracy&#x27;)</pre><b>In a Jupyter environment, please rerun this cell to show the HTML representation or trust the notebook. <br />On GitHub, the HTML representation is unable to render, please try loading this page with nbviewer.org.</b></div><div class=\"sk-container\" hidden><div class=\"sk-item sk-dashed-wrapped\"><div class=\"sk-label-container\"><div class=\"sk-label fitted sk-toggleable\"><input class=\"sk-toggleable__control sk-hidden--visually\" id=\"sk-estimator-id-1\" type=\"checkbox\" ><label for=\"sk-estimator-id-1\" class=\"sk-toggleable__label fitted sk-toggleable__label-arrow fitted\">&nbsp;&nbsp;GridSearchCV<a class=\"sk-estimator-doc-link fitted\" rel=\"noreferrer\" target=\"_blank\" href=\"https://scikit-learn.org/1.4/modules/generated/sklearn.model_selection.GridSearchCV.html\">?<span>Documentation for GridSearchCV</span></a><span class=\"sk-estimator-doc-link fitted\">i<span>Fitted</span></span></label><div class=\"sk-toggleable__content fitted\"><pre>GridSearchCV(cv=5, estimator=KNeighborsClassifier(),\n",
       "             param_grid={&#x27;n_neighbors&#x27;: [1, 2, 3, 4, 5, 6, 7, 8, 9, 10]},\n",
       "             scoring=&#x27;accuracy&#x27;)</pre></div> </div></div><div class=\"sk-parallel\"><div class=\"sk-parallel-item\"><div class=\"sk-item\"><div class=\"sk-label-container\"><div class=\"sk-label fitted sk-toggleable\"><input class=\"sk-toggleable__control sk-hidden--visually\" id=\"sk-estimator-id-2\" type=\"checkbox\" ><label for=\"sk-estimator-id-2\" class=\"sk-toggleable__label fitted sk-toggleable__label-arrow fitted\">estimator: KNeighborsClassifier</label><div class=\"sk-toggleable__content fitted\"><pre>KNeighborsClassifier()</pre></div> </div></div><div class=\"sk-serial\"><div class=\"sk-item\"><div class=\"sk-estimator fitted sk-toggleable\"><input class=\"sk-toggleable__control sk-hidden--visually\" id=\"sk-estimator-id-3\" type=\"checkbox\" ><label for=\"sk-estimator-id-3\" class=\"sk-toggleable__label fitted sk-toggleable__label-arrow fitted\">&nbsp;KNeighborsClassifier<a class=\"sk-estimator-doc-link fitted\" rel=\"noreferrer\" target=\"_blank\" href=\"https://scikit-learn.org/1.4/modules/generated/sklearn.neighbors.KNeighborsClassifier.html\">?<span>Documentation for KNeighborsClassifier</span></a></label><div class=\"sk-toggleable__content fitted\"><pre>KNeighborsClassifier()</pre></div> </div></div></div></div></div></div></div></div></div>"
      ],
      "text/plain": [
       "GridSearchCV(cv=5, estimator=KNeighborsClassifier(),\n",
       "             param_grid={'n_neighbors': [1, 2, 3, 4, 5, 6, 7, 8, 9, 10]},\n",
       "             scoring='accuracy')"
      ]
     },
     "execution_count": 10,
     "metadata": {},
     "output_type": "execute_result"
    }
   ],
   "source": [
    "# Fine-tuning the model using GridSearchCV\n",
    "param_grid = {'n_neighbors': k_values}\n",
    "knn = KNeighborsClassifier()\n",
    "grid = GridSearchCV(knn, param_grid, cv=5, scoring='accuracy')\n",
    "grid.fit(x_train, y_train)\n",
    "\n",
    "# We use GridSearchCV to perform a grid search over different values of k,\n",
    "#finding the optimal k value that minimizes the misclassification error."
   ]
  },
  {
   "cell_type": "markdown",
   "id": "df46fe2a",
   "metadata": {
    "id": "df46fe2a"
   },
   "source": [
    "# GridSearchCV\n",
    " It is a library function provided in Scikit-Learn in Python, and it stands for Grid Search Cross Validation. It's used to find the best set of hyperparameters for a machine learning model which in turn helps to improve the model's performance."
   ]
  },
  {
   "cell_type": "code",
   "execution_count": 11,
   "id": "74253669",
   "metadata": {
    "id": "74253669"
   },
   "outputs": [
    {
     "name": "stdout",
     "output_type": "stream",
     "text": [
      "k=1, Accuracy: 35.67%\n",
      "k=2, Accuracy: 31.45%\n",
      "k=3, Accuracy: 33.08%\n",
      "k=4, Accuracy: 33.89%\n",
      "k=5, Accuracy: 34.17%\n",
      "k=6, Accuracy: 34.21%\n",
      "k=7, Accuracy: 33.88%\n",
      "k=8, Accuracy: 34.23%\n",
      "k=9, Accuracy: 34.12%\n"
     ]
    }
   ],
   "source": [
    "#4. (Optional) Try different values of k and observe how the classification accuracy changes\n",
    "\n",
    "\n",
    "\n",
    "for k in range(1, 10):\n",
    "    knn = KNeighborsClassifier(n_neighbors=k)\n",
    "    knn.fit(x_train, y_train)\n",
    "    y_pred = knn.predict(x_test)\n",
    "    print(f'k={k}, Accuracy: {accuracy_score(y_test, y_pred)*100:.2f}%')\n",
    "\n",
    "\n"
   ]
  },
  {
   "cell_type": "code",
   "execution_count": 12,
   "id": "83583af4",
   "metadata": {
    "id": "83583af4"
   },
   "outputs": [
    {
     "name": "stdout",
     "output_type": "stream",
     "text": [
      "Optimal k: 1\n",
      "Accuracy: 35.67%\n"
     ]
    }
   ],
   "source": [
    "# 5.Display the optimal value of k and evaluate the model\n",
    "# Hint: You can use the accuracy_score function from scikit-learn\n",
    "\n",
    "best_k = grid.best_params_['n_neighbors']\n",
    "best_knn = grid.best_estimator_\n",
    "y_pred = best_knn.predict(x_test)\n",
    "print(f'Optimal k: {best_k}')\n",
    "print(f'Accuracy: {accuracy_score(y_test, y_pred)*100:.2f}%')\n",
    "\n",
    "\n",
    "##We display the optimal k value and evaluate the best k-NN model on the test data to check its performance.\n",
    "#Each step in the code is necessary to ensure proper data preparation, model training, evaluation, and fine-tuning,\n",
    "#which are crucial aspects of building and understanding machine learning models\n",
    "\n",
    "# Set a flag to indicate that the code cell has completed execution\n",
    "code_completed = True"
   ]
  },
  {
   "cell_type": "code",
   "execution_count": 13,
   "id": "2b4ec1c9",
   "metadata": {
    "id": "2b4ec1c9"
   },
   "outputs": [
    {
     "data": {
      "text/markdown": [
       "\n",
       "    ## Why do you think of this model accuracy? How can it be improved?\n",
       "\n",
       "    How to improve Model's accuracy? Here are some suggestions on how to improve the model\n",
       "\n",
       "    In this assignment, there could be various reasons for a low accuracy score. Here are some potential factors and suggestions on how to improve the model performance:\n",
       "\n",
       "    - **Network Architecture**: The architecture of the neural network can significantly affect the performance. A more complex architecture with additional layers might capture the features of the data better. You could experiment with adding more convolutional layers, pooling layers, or fully connected layers to the network.\n",
       "\n",
       "    - **Hyperparameters**: Tuning hyperparameters such as the learning rate, batch size, and the number of epochs can also help in improving the model's performance. You can use techniques like GridSearchCV or RandomizedSearchCV to find the optimal hyperparameters.\n",
       "\n",
       "    - **Data Augmentation**: Augmenting the training data by applying random transformations (e.g., rotation, scaling, cropping, flipping) can help the model learn more robust features and improve its generalization ability.\n",
       "\n",
       "    - **Normalization and Preprocessing**: Ensuring that the input data is normalized and preprocessed correctly is crucial. Normalizing the pixel values of the images to a range between 0 and 1 can help in speeding up the training and improving the convergence of the model.\n",
       "\n",
       "    - **Advanced Optimizers**: Experimenting with different optimization algorithms such as Adam, RMSprop, or Adagrad, might lead to better training convergence and improved accuracy.\n",
       "\n",
       "    - **Regularization**: Implementing regularization techniques such as dropout or L2 regularization can help in reducing overfitting, especially in a complex network with many parameters.\n",
       "\n",
       "    - **Transfer Learning**: Utilizing a pre-trained model on a large dataset and fine-tuning it on your specific dataset can significantly boost the performance. Models like ResNet, VGG, or MobileNet have already learned useful features from large-scale datasets and can be fine-tuned for your specific task.\n",
       "\n",
       "    - **Evaluation Metrics**: Ensure you are using appropriate evaluation metrics for your problem. Sometimes accuracy might not be the best metric, especially in imbalanced datasets. Other metrics like precision, recall, or F1-score might provide better insights.\n",
       "\n",
       "    - **Learning Schedule**: Implementing learning rate schedules or learning rate warm-up can help in stabilizing the training and achieving better performance.\n",
       "\n",
       "    - **Early Stopping**: Implementing early stopping based on validation loss can prevent overfitting and save training time.\n",
       "    "
      ],
      "text/plain": [
       "<IPython.core.display.Markdown object>"
      ]
     },
     "metadata": {},
     "output_type": "display_data"
    }
   ],
   "source": [
    "from IPython.display import display, Markdown\n",
    "\n",
    "# Replace 'True' with your condition.\n",
    "# For example, if you have a variable called 'result' and you want to display the Markdown\n",
    "# only if 'result' is greater than 10, replace 'True' with 'result > 10'.\n",
    "condition = True\n",
    "\n",
    "if 'code_completed' in globals() and code_completed:\n",
    "    display(Markdown(\"\"\"\n",
    "    ## Why do you think of this model accuracy? How can it be improved?\n",
    "\n",
    "    How to improve Model's accuracy? Here are some suggestions on how to improve the model\n",
    "\n",
    "    In this assignment, there could be various reasons for a low accuracy score. Here are some potential factors and suggestions on how to improve the model performance:\n",
    "\n",
    "    - **Network Architecture**: The architecture of the neural network can significantly affect the performance. A more complex architecture with additional layers might capture the features of the data better. You could experiment with adding more convolutional layers, pooling layers, or fully connected layers to the network.\n",
    "\n",
    "    - **Hyperparameters**: Tuning hyperparameters such as the learning rate, batch size, and the number of epochs can also help in improving the model's performance. You can use techniques like GridSearchCV or RandomizedSearchCV to find the optimal hyperparameters.\n",
    "\n",
    "    - **Data Augmentation**: Augmenting the training data by applying random transformations (e.g., rotation, scaling, cropping, flipping) can help the model learn more robust features and improve its generalization ability.\n",
    "\n",
    "    - **Normalization and Preprocessing**: Ensuring that the input data is normalized and preprocessed correctly is crucial. Normalizing the pixel values of the images to a range between 0 and 1 can help in speeding up the training and improving the convergence of the model.\n",
    "\n",
    "    - **Advanced Optimizers**: Experimenting with different optimization algorithms such as Adam, RMSprop, or Adagrad, might lead to better training convergence and improved accuracy.\n",
    "\n",
    "    - **Regularization**: Implementing regularization techniques such as dropout or L2 regularization can help in reducing overfitting, especially in a complex network with many parameters.\n",
    "\n",
    "    - **Transfer Learning**: Utilizing a pre-trained model on a large dataset and fine-tuning it on your specific dataset can significantly boost the performance. Models like ResNet, VGG, or MobileNet have already learned useful features from large-scale datasets and can be fine-tuned for your specific task.\n",
    "\n",
    "    - **Evaluation Metrics**: Ensure you are using appropriate evaluation metrics for your problem. Sometimes accuracy might not be the best metric, especially in imbalanced datasets. Other metrics like precision, recall, or F1-score might provide better insights.\n",
    "\n",
    "    - **Learning Schedule**: Implementing learning rate schedules or learning rate warm-up can help in stabilizing the training and achieving better performance.\n",
    "\n",
    "    - **Early Stopping**: Implementing early stopping based on validation loss can prevent overfitting and save training time.\n",
    "    \"\"\"))\n"
   ]
  },
  {
   "cell_type": "code",
   "execution_count": 14,
   "id": "2f458b95",
   "metadata": {
    "id": "2f458b95"
   },
   "outputs": [],
   "source": [
    "import tensorflow as tf\n",
    "import matplotlib.pyplot as plt\n",
    "from tensorflow.keras.preprocessing.image import ImageDataGenerator\n"
   ]
  },
  {
   "cell_type": "code",
   "execution_count": 15,
   "id": "2dfceab9",
   "metadata": {
    "id": "2dfceab9"
   },
   "outputs": [],
   "source": [
    "# Load data\n",
    "(x_train, y_train), (x_test, y_test) = tf.keras.datasets.cifar10.load_data()\n",
    "\n",
    "# Normalize data\n",
    "x_train, x_test = x_train / 255.0, x_test / 255.0\n"
   ]
  },
  {
   "cell_type": "code",
   "execution_count": 16,
   "id": "96bb94e7",
   "metadata": {
    "id": "96bb94e7"
   },
   "outputs": [],
   "source": [
    "# Data Augmentation\n",
    "datagen = ImageDataGenerator(\n",
    "    rotation_range=15,\n",
    "    horizontal_flip=True,\n",
    "    width_shift_range=0.1,\n",
    "    height_shift_range=0.1\n",
    ")\n",
    "datagen.fit(x_train)"
   ]
  },
  {
   "cell_type": "code",
   "execution_count": 17,
   "id": "06c7d622",
   "metadata": {
    "id": "06c7d622"
   },
   "outputs": [
    {
     "name": "stderr",
     "output_type": "stream",
     "text": [
      "/home/studio-lab-user/.conda/envs/default/lib/python3.9/site-packages/keras/src/layers/convolutional/base_conv.py:99: UserWarning: Do not pass an `input_shape`/`input_dim` argument to a layer. When using Sequential models, prefer using an `Input(shape)` object as the first layer in the model instead.\n",
      "  super().__init__(\n"
     ]
    }
   ],
   "source": [
    "# Build model\n",
    "model = tf.keras.models.Sequential([\n",
    "    tf.keras.layers.Conv2D(32, (3,3), activation='relu', input_shape=(32,32,3)),\n",
    "    tf.keras.layers.BatchNormalization(),\n",
    "    tf.keras.layers.MaxPooling2D(pool_size=(2, 2)),\n",
    "    tf.keras.layers.Dropout(0.25),\n",
    "    tf.keras.layers.Conv2D(64, (3,3), activation='relu'),\n",
    "    tf.keras.layers.BatchNormalization(),\n",
    "    tf.keras.layers.MaxPooling2D(pool_size=(2, 2)),\n",
    "    tf.keras.layers.Dropout(0.25),\n",
    "    tf.keras.layers.Flatten(),\n",
    "    tf.keras.layers.Dense(512, activation='relu'),\n",
    "    tf.keras.layers.Dropout(0.5),\n",
    "    tf.keras.layers.Dense(10, activation='softmax')\n",
    "])\n"
   ]
  },
  {
   "cell_type": "code",
   "execution_count": 18,
   "id": "e988eafc",
   "metadata": {
    "id": "e988eafc"
   },
   "outputs": [],
   "source": [
    "# Compile model\n",
    "model.compile(optimizer='adam',\n",
    "              loss='sparse_categorical_crossentropy',\n",
    "              metrics=['accuracy'])\n"
   ]
  },
  {
   "cell_type": "code",
   "execution_count": null,
   "id": "85ce4789",
   "metadata": {
    "id": "85ce4789"
   },
   "outputs": [
    {
     "name": "stdout",
     "output_type": "stream",
     "text": [
      "Epoch 1/50\n"
     ]
    },
    {
     "name": "stderr",
     "output_type": "stream",
     "text": [
      "/home/studio-lab-user/.conda/envs/default/lib/python3.9/site-packages/keras/src/trainers/data_adapters/py_dataset_adapter.py:120: UserWarning: Your `PyDataset` class should call `super().__init__(**kwargs)` in its constructor. `**kwargs` can include `workers`, `use_multiprocessing`, `max_queue_size`. Do not pass these arguments to `fit()`, as they will be ignored.\n",
      "  self._warn_if_super_not_called()\n"
     ]
    },
    {
     "name": "stdout",
     "output_type": "stream",
     "text": [
      "\u001b[1m782/782\u001b[0m \u001b[32m━━━━━━━━━━━━━━━━━━━━\u001b[0m\u001b[37m\u001b[0m \u001b[1m73s\u001b[0m 90ms/step - accuracy: 0.3224 - loss: 2.0932 - val_accuracy: 0.4883 - val_loss: 1.5346\n",
      "Epoch 2/50\n",
      "\u001b[1m782/782\u001b[0m \u001b[32m━━━━━━━━━━━━━━━━━━━━\u001b[0m\u001b[37m\u001b[0m \u001b[1m72s\u001b[0m 91ms/step - accuracy: 0.4627 - loss: 1.4949 - val_accuracy: 0.5933 - val_loss: 1.1958\n",
      "Epoch 3/50\n",
      "\u001b[1m571/782\u001b[0m \u001b[32m━━━━━━━━━━━━━━\u001b[0m\u001b[37m━━━━━━\u001b[0m \u001b[1m18s\u001b[0m 88ms/step - accuracy: 0.5100 - loss: 1.3674"
     ]
    }
   ],
   "source": [
    "# Train model\n",
    "history = model.fit(datagen.flow(x_train, y_train, batch_size=64),\n",
    "                    epochs=50,\n",
    "                    validation_data=(x_test, y_test),\n",
    "                    callbacks=[tf.keras.callbacks.EarlyStopping(patience=5, restore_best_weights=True)])\n"
   ]
  },
  {
   "cell_type": "code",
   "execution_count": null,
   "id": "9e9e28f7",
   "metadata": {
    "id": "9e9e28f7"
   },
   "outputs": [],
   "source": [
    "# Evaluate model\n",
    "plt.plot(history.history['accuracy'], label='accuracy')\n",
    "plt.plot(history.history['val_accuracy'], label = 'val_accuracy')\n",
    "plt.xlabel('Epoch')\n",
    "plt.ylabel('Accuracy')\n",
    "plt.legend(loc='lower right')\n"
   ]
  },
  {
   "cell_type": "markdown",
   "id": "433dc9d0",
   "metadata": {
    "id": "433dc9d0"
   },
   "source": [
    "#  In this updated snippet:\n",
    "\n",
    "Data normalization and augmentation have been added.\n",
    "The model architecture has been expanded with additional layers, batch normalization, and dropout for regularization.\n",
    "Early stopping is implemented to prevent overfitting.\n",
    "The training is done for more epochs, but with early stopping to halt training if the model is no longer improving on the validation data."
   ]
  },
  {
   "cell_type": "code",
   "execution_count": null,
   "id": "870542c2-aa70-48d7-b0b0-792135d1d260",
   "metadata": {},
   "outputs": [],
   "source": []
  }
 ],
 "metadata": {
  "colab": {
   "provenance": []
  },
  "kernelspec": {
   "display_name": "default:Python",
   "language": "python",
   "name": "conda-env-default-py"
  },
  "language_info": {
   "codemirror_mode": {
    "name": "ipython",
    "version": 3
   },
   "file_extension": ".py",
   "mimetype": "text/x-python",
   "name": "python",
   "nbconvert_exporter": "python",
   "pygments_lexer": "ipython3",
   "version": "3.9.16"
  }
 },
 "nbformat": 4,
 "nbformat_minor": 5
}
